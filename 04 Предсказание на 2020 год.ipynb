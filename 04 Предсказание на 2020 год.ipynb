{
 "cells": [
  {
   "cell_type": "code",
   "execution_count": 2,
   "metadata": {},
   "outputs": [
    {
     "data": {
      "image/png": "[encoded data removed]",
      "text/plain": [
       "<Figure size 432x288 with 1 Axes>"
      ]
     },
     "metadata": {
      "needs_background": "light"
     },
     "output_type": "display_data"
    },
    {
     "name": "stdout",
     "output_type": "stream",
     "text": [
      "В 2020 году ожидается доля безработных инвалидов 1.52 %\n"
     ]
    }
   ],
   "source": [
    "'''Возьмите данные по безработице в городе Москва:\n",
    "video.ittensive.com/python-advanced/data-9753-2019-07-25.utf.csv\n",
    "Сгруппируйте данные по годам, и, если в году меньше 6 значений, отбросьте эти годы.\n",
    "Постройте модель линейной регрессии по годам среднего значения отношения UnemployedDisabled к UnemployedTotal\n",
    "(процента людей с ограниченными возможностями) за месяц и ответьте,\n",
    "какое ожидается значение процента безработных инвалидов в 2020 году при сохранении текущей политики города Москвы?\n",
    "Ответ округлите до сотых. Например, 2,32'''\n",
    "\n",
    "import pandas as pd\n",
    "import numpy as np\n",
    "from sklearn.linear_model import LinearRegression\n",
    "import matplotlib.pyplot as plt\n",
    "data = pd.read_csv('https://video.ittensive.com/python-advanced/data-9753-2019-07-25.utf.csv', delimiter=';')\n",
    "data['sum'] = data.apply(lambda x: 100*x[6]/x[7], axis=1)\n",
    "data = data.groupby('Year').filter(lambda x: x['Year'].count() >= 6)\n",
    "\n",
    "data_avg = data.groupby('Year').mean()\n",
    "\n",
    "x = np.array(data_avg.index).reshape(len(data_avg.index), 1)\n",
    "y = np.array(data_avg['sum']).reshape(len(data_avg.index), 1)\n",
    "model = LinearRegression()\n",
    "model.fit(x, y)\n",
    "plt.scatter(x, y, color='orange')\n",
    "x = np.append(x, [2020]).reshape(len(data_avg.index)+1, 1)\n",
    "plt.plot(x, model.predict(x), color='blue', linewidth=3)\n",
    "plt.show()\n",
    "print('В 2020 году ожидается доля безработных инвалидов', model.predict(np.array(2020).reshape(1, 1)).round(2)[0][0], '%')"
   ]
  },
  {
   "cell_type": "code",
   "execution_count": null,
   "metadata": {},
   "outputs": [],
   "source": []
  }
 ],
 "metadata": {
  "kernelspec": {
   "display_name": "Python 3",
   "language": "python",
   "name": "python3"
  },
  "language_info": {
   "codemirror_mode": {
    "name": "ipython",
    "version": 3
   },
   "file_extension": ".py",
   "mimetype": "text/x-python",
   "name": "python",
   "nbconvert_exporter": "python",
   "pygments_lexer": "ipython3",
   "version": "3.8.5"
  }
 },
 "nbformat": 4,
 "nbformat_minor": 4
}
