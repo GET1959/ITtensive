{
 "cells": [
  {
   "cell_type": "code",
   "execution_count": 3,
   "metadata": {},
   "outputs": [
    {
     "name": "stdout",
     "output_type": "stream",
     "text": [
      "Долгота Самары -  50.100193 градусов\n"
     ]
    }
   ],
   "source": [
    "'''Изучите API Геокодера Яндекса\n",
    "tech.yandex.ru/maps/geocoder/doc/desc/concepts/input_params-docpage/\n",
    "и получите ключ API для него в кабинете разработчика.\n",
    "Выполните запрос к API и узнайте долготу точки на карте (Point) для города Самара.\n",
    "'''\n",
    "import requests\n",
    "import json\n",
    "r = requests.get('https://geocode-maps.yandex.ru/1.x/?format=json&results=1&apikey=5f1ece4e-7070-4a9d-8cd8-a23e2b8b6bc1&geocode=Самара')\n",
    "samara_coord = json.loads(r.content)\n",
    "#print(samara_coord)\n",
    "print(\"Долгота Самары - \",\n",
    "      samara_coord['response']['GeoObjectCollection']['featureMember'][0]['GeoObject']['Point']['pos'].split(' ')[0],\n",
    "      'градусов')"
   ]
  },
  {
   "cell_type": "code",
   "execution_count": null,
   "metadata": {},
   "outputs": [],
   "source": []
  }
 ],
 "metadata": {
  "kernelspec": {
   "display_name": "Python 3",
   "language": "python",
   "name": "python3"
  },
  "language_info": {
   "codemirror_mode": {
    "name": "ipython",
    "version": 3
   },
   "file_extension": ".py",
   "mimetype": "text/x-python",
   "name": "python",
   "nbconvert_exporter": "python",
   "pygments_lexer": "ipython3",
   "version": "3.8.5"
  }
 },
 "nbformat": 4,
 "nbformat_minor": 4
}
