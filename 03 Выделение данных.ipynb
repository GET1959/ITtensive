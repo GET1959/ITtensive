{
 "cells": [
  {
   "cell_type": "code",
   "execution_count": 1,
   "metadata": {},
   "outputs": [
    {
     "data": {
      "text/html": [
       "<div>\n",
       "<style scoped>\n",
       "    .dataframe tbody tr th:only-of-type {\n",
       "        vertical-align: middle;\n",
       "    }\n",
       "\n",
       "    .dataframe tbody tr th {\n",
       "        vertical-align: top;\n",
       "    }\n",
       "\n",
       "    .dataframe thead th {\n",
       "        text-align: right;\n",
       "    }\n",
       "</style>\n",
       "<table border=\"1\" class=\"dataframe\">\n",
       "  <thead>\n",
       "    <tr style=\"text-align: right;\">\n",
       "      <th></th>\n",
       "      <th>global_id</th>\n",
       "      <th>ID</th>\n",
       "      <th>Year</th>\n",
       "      <th>UnemployedMen</th>\n",
       "      <th>UnemployedWomen</th>\n",
       "      <th>UnemployedYoung</th>\n",
       "      <th>UnemployedDisabled</th>\n",
       "      <th>UnemployedTotal</th>\n",
       "      <th>Period</th>\n",
       "      <th>Unnamed: 9</th>\n",
       "    </tr>\n",
       "  </thead>\n",
       "  <tbody>\n",
       "    <tr>\n",
       "      <th>91</th>\n",
       "      <td>894075540</td>\n",
       "      <td>96</td>\n",
       "      <td>2018</td>\n",
       "      <td>10651</td>\n",
       "      <td>14043</td>\n",
       "      <td>2829</td>\n",
       "      <td>472</td>\n",
       "      <td>24694</td>\n",
       "      <td>Сентябрь</td>\n",
       "      <td>NaN</td>\n",
       "    </tr>\n",
       "  </tbody>\n",
       "</table>\n",
       "</div>"
      ],
      "text/plain": [
       "    global_id  ID  Year  UnemployedMen  UnemployedWomen  UnemployedYoung  \\\n",
       "91  894075540  96  2018          10651            14043             2829   \n",
       "\n",
       "    UnemployedDisabled  UnemployedTotal    Period  Unnamed: 9  \n",
       "91                 472            24694  Сентябрь         NaN  "
      ]
     },
     "execution_count": 1,
     "metadata": {},
     "output_type": "execute_result"
    }
   ],
   "source": [
    "'''Получите данные по безработице в Москве:\n",
    "https://video.ittensive.com/python-advanced/data-9753-2019-07-25.utf.csv\n",
    "Найдите, с какого года процент людей с ограниченными возможностями (UnemployedDisabled)\n",
    "среди всех безработных (UnemployedTotal) стал меньше 2%'''\n",
    "\n",
    "import pandas as pd\n",
    "\n",
    "def rate_UD(x):\n",
    "    return x[6] /x[7] < 0.02\n",
    "\n",
    "data = pd.read_csv('https://video.ittensive.com/python-advanced/data-9753-2019-07-25.utf.csv', delimiter=';')\n",
    "\n",
    "data = data[data.apply(rate_UD, axis=1)]\n",
    "data.head(1)"
   ]
  },
  {
   "cell_type": "code",
   "execution_count": null,
   "metadata": {},
   "outputs": [],
   "source": []
  }
 ],
 "metadata": {
  "kernelspec": {
   "display_name": "Python 3",
   "language": "python",
   "name": "python3"
  },
  "language_info": {
   "codemirror_mode": {
    "name": "ipython",
    "version": 3
   },
   "file_extension": ".py",
   "mimetype": "text/x-python",
   "name": "python",
   "nbconvert_exporter": "python",
   "pygments_lexer": "ipython3",
   "version": "3.8.5"
  }
 },
 "nbformat": 4,
 "nbformat_minor": 4
}
