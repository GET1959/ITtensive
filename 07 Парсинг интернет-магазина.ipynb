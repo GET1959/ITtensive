{
 "cells": [
  {
   "cell_type": "code",
   "execution_count": 1,
   "metadata": {},
   "outputs": [
    {
     "name": "stdout",
     "output_type": "stream",
     "text": [
      "Объем холодильников Саратов 263 и Саратов 452 различается на 73 л\n"
     ]
    }
   ],
   "source": [
    "'''Используя парсинг данных с маркетплейса beru.ru, найдите, на сколько литров отличается общий объем холодильников Саратов 263 и Саратов 452?\n",
    "Для парсинга можно использовать зеркало страницы beru.ru с результатами для холодильников Саратов по адресу:\n",
    "video.ittensive.com/data/018-python-advanced/beru.ru/'''\n",
    "import requests\n",
    "from bs4 import BeautifulSoup\n",
    "headers = {\"User-Agent\": \"Mozilla/5.0 (Windows NT 6.1; WOW64) AppleWebKit/537.36 (KHTML, like Gecko) Chrome/78.0.3904.97 YaBrowser/19.12.0.358 Yowser/2.5 Safari/537.36\"}\n",
    "r = requests.get(\"https://www.video.ittensive.com/data/018-python-advanced/beru.ru/\", headers=headers)\n",
    "html = BeautifulSoup(r.content)\n",
    "\n",
    "links = html.find_all(\"a\", {\"class\": \"_3ioN70chUh Usp3kX1MNT _3Uc73lzxcf\"})\n",
    "link_263 = ''\n",
    "link_452 = ''\n",
    "for link in links:\n",
    "    if str(link).find(\"Саратов 263\") > -1:\n",
    "        link_263 = link[\"href\"]\n",
    "    if str(link).find(\"Саратов 452\") > -1:\n",
    "        link_452 = link[\"href\"]\n",
    "\n",
    "def find_volume(link):\n",
    "    r = requests.get(\"https://www.video.ittensive.com/data/018-python-advanced/beru.ru/\" + link)\n",
    "    html = BeautifulSoup(r.content)\n",
    "    charact = html.find_all(\"span\", {\"class\": \"_112Tad-7AP\"})\n",
    "    return int(''.join(i for i in charact[2].get_text() if i.isdigit()))\n",
    "\n",
    "if link_263 and link_452:\n",
    "    volume_263 = find_volume(link_263)\n",
    "    volume_452 = find_volume(link_452)\n",
    "    diff = max(volume_263, volume_452) - min(volume_263, volume_452)\n",
    "    print (\"Объем холодильников Саратов 263 и Саратов 452 различается на\", diff, \"л\")\n"
   ]
  },
  {
   "cell_type": "code",
   "execution_count": null,
   "metadata": {},
   "outputs": [],
   "source": []
  }
 ],
 "metadata": {
  "kernelspec": {
   "display_name": "Python 3",
   "language": "python",
   "name": "python3"
  },
  "language_info": {
   "codemirror_mode": {
    "name": "ipython",
    "version": 3
   },
   "file_extension": ".py",
   "mimetype": "text/x-python",
   "name": "python",
   "nbconvert_exporter": "python",
   "pygments_lexer": "ipython3",
   "version": "3.8.5"
  }
 },
 "nbformat": 4,
 "nbformat_minor": 4
}
