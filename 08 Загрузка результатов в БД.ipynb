{
 "cells": [
  {
   "cell_type": "code",
   "execution_count": 11,
   "metadata": {},
   "outputs": [
    {
     "name": "stdout",
     "output_type": "stream",
     "text": [
      "[(1, 'kholodilnik-saratov-452-ksh-120.html', 'Холодильник Саратов 452 (КШ-120)', 10728, 48.0, 89.6, 60.0, 122, 107), (2, 'kholodilnik-saratov-263-kshd-200-30.html', 'Холодильник Саратов 263 (КШД-200/30)', 14299, 48.0, 149.0, 60.0, 195, 165), (3, 'kholodilnik-saratov-209-kshd-275-65.html', 'Холодильник Саратов 209 (КШД 275/65)', 13292, 60.0, 163.0, 60.6, 275, 210), (4, 'kholodilnik-saratov-209-belyi-s-chernymi-nakladkami.html', 'Холодильник Саратов 209 белый с черными накладками', 18259, 60.0, 163.0, 61.0, 275, 210), (5, 'kholodilnik-saratov-452-ksh-120-seryi.html', 'Холодильник Саратов 452 (КШ-120) серый', 10946, 48.0, 89.6, 60.0, 122, 107), (6, 'kholodilnik-saratov-550-ksh-120-bez-nto.html', 'Холодильник Саратов 550 (КШ-120 без НТО)', 10545, 48.0, 87.5, 59.0, 122, 0), (7, 'kholodilnik-saratov-467-ksh-210.html', 'Холодильник Саратов 467 (КШ-210)', 13523, 48.0, 149.0, 60.0, 210, 185), (8, 'kholodilnik-saratov-264-kshd-150-30.html', 'Холодильник Саратов 264 (КШД-150/30)', 14151, 48.0, 123.0, 60.0, 152, 122), (9, 'kholodilnik-saratov-264-kshd-150-30-seryi.html', 'Холодильник Саратов 264 (КШД-150/30) серый', 14369, 48.0, 123.0, 60.0, 152, 122), (10, 'kholodilnik-saratov-263-seryi.html', 'Холодильник Саратов 263 серый', 14811, 48.0, 149.0, 60.0, 195, 165)]\n",
      "Ширина холодильника Саратов 264 - 48.0 см\n"
     ]
    }
   ],
   "source": [
    "'''Соберите данные о моделях холодильников Саратов с маркетплейса beru.ru: URL, название, цена, размеры, общий объем,\n",
    "объем холодильной камеры.\n",
    "Создайте соответствующие таблицы в SQLite базе данных и загрузите полученные данные в таблицу beru_goods.\n",
    "Для парсинга можно использовать зеркало страницы beru.ru с результатами для холодильников Саратов по адресу:\n",
    "video.ittensive.com/data/018-python-advanced/beru.ru/\n",
    "Какая ширина у холодильника Саратов 264 в см?'''\n",
    "\n",
    "import sqlite3\n",
    "import requests\n",
    "from bs4 import BeautifulSoup\n",
    "\n",
    "def find_number(text):\n",
    "    return int(\"0\" + \"\".join(i for i in text if i.isdigit()))\n",
    "def find_data (link):\n",
    "    r = requests.get(\"https://video.ittensive.com/data/018-python-advanced/beru.ru/\" + link)\n",
    "    html = BeautifulSoup(r.content)\n",
    "    title = html.find(\"h1\", {\"class\": \"_3TfWusA7bt\"}).get_text()\n",
    "    price = find_number(html.find(\"span\", {\"data-tid\": \"c3eaad93\"}).get_text())\n",
    "    tags = html.find_all(\"span\", {\"class\": \"_112Tad-7AP\"})\n",
    "    width = 0\n",
    "    depth = 0\n",
    "    height = 0\n",
    "    volume = 0\n",
    "    freezer = 0\n",
    "    for tag in tags:\n",
    "        tag = tag.get_text()\n",
    "        if tag.find(\"ШхВхГ\") > -1:\n",
    "            dims = tag.split(\":\")[1].split(\"х\")\n",
    "            width = float(dims[0])\n",
    "            height = float(dims[1])\n",
    "            depth = float(dims[2].split(\" \")[0])\n",
    "        if tag.find(\"общий объем\") > -1:\n",
    "            volume = find_number(tag)\n",
    "        if tag.find(\"объем холодильной камеры\") > -1:\n",
    "            freezer = find_number(tag)\n",
    "    return [link, title, price, width, height, depth, volume, freezer]\n",
    "\n",
    "r = requests.get(\"https://video.ittensive.com/data/018-python-advanced/beru.ru/\")\n",
    "html = BeautifulSoup(r.content)\n",
    "links = html.find_all(\"a\", {\"class\": \"_3ioN70chUh\"})\n",
    "data = []\n",
    "for link in links:\n",
    "    if link[\"href\"] and link.get_text().find(\"Саратов\") > -1:\n",
    "        data.append(find_data(link[\"href\"]))\n",
    "\n",
    "conn = sqlite3.connect(\"C:/Users/get.HP/SQLite/data.db3\")\n",
    "db = conn.cursor()\n",
    "\n",
    "db.execute(\"\"\"CREATE TABLE beru_goods\n",
    "            (id INTEGER PRIMARY KEY AUTOINCREMENT not null,\n",
    "            url text,\n",
    "            title text default '',\n",
    "            price INTEGER default 0,\n",
    "            width FLOAT default 0.0,\n",
    "            height FLOAT default 0.0,\n",
    "            depth FLOAT default 0.0,\n",
    "            volume INTEGER default 0,\n",
    "            freezer INTEGER default 0)\"\"\")\n",
    "conn.commit()\n",
    "db.executemany(\"\"\"INSERT INTO beru_goods (url, title, price, width, height, depth, volume, freezer)\n",
    "           VALUES (?, ?, ?, ?, ?, ?, ?, ?)\"\"\", data)\n",
    "conn.commit()\n",
    "print (db.execute(\"SELECT * FROM beru_goods\").fetchall())\n",
    "print ('Ширина холодильника Саратов 264 -',\n",
    "       db.execute(\"SELECT width FROM beru_goods WHERE title == 'Холодильник Саратов 264 (КШД-150/30)'\").fetchone()[0], 'см')\n",
    "db.close()"
   ]
  },
  {
   "cell_type": "code",
   "execution_count": null,
   "metadata": {},
   "outputs": [],
   "source": []
  }
 ],
 "metadata": {
  "kernelspec": {
   "display_name": "Python 3",
   "language": "python",
   "name": "python3"
  },
  "language_info": {
   "codemirror_mode": {
    "name": "ipython",
    "version": 3
   },
   "file_extension": ".py",
   "mimetype": "text/x-python",
   "name": "python",
   "nbconvert_exporter": "python",
   "pygments_lexer": "ipython3",
   "version": "3.8.5"
  }
 },
 "nbformat": 4,
 "nbformat_minor": 4
}
